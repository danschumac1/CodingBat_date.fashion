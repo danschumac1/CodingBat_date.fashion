{
 "cells": [
  {
   "cell_type": "markdown",
   "id": "ea75feab",
   "metadata": {},
   "source": [
    "# Logic-1 > date_fashion"
   ]
  },
  {
   "cell_type": "markdown",
   "id": "5ed31e9f",
   "metadata": {},
   "source": [
    "\n",
    "You and your date are trying to get a table at a restaurant. The parameter \"you\" is the stylishness of your clothes, in the range 0..10, and \"date\" is the stylishness of your date's clothes. The result getting the table is encoded as an int value with 0=no, 1=maybe, 2=yes. If either of you is very stylish, 8 or more, then the result is 2 (yes). With the exception that if either of you has style of 2 or less, then the result is 0 (no). Otherwise the result is 1 (maybe).\n",
    "\n",
    "\n",
    "date_fashion(5, 10) → 2\n",
    "\n",
    "date_fashion(5, 2) → 0\n",
    "\n",
    "date_fashion(5, 5) → 1"
   ]
  },
  {
   "cell_type": "code",
   "execution_count": 2,
   "id": "a596f7d6",
   "metadata": {},
   "outputs": [],
   "source": [
    "def date_fashion(you, date):\n",
    "  if min(you,date)<=2:\n",
    "    return 0\n",
    "  elif max(you, date)>=8:\n",
    "    return 2\n",
    "  else:\n",
    "    return 1"
   ]
  }
 ],
 "metadata": {
  "kernelspec": {
   "display_name": "Python 3 (ipykernel)",
   "language": "python",
   "name": "python3"
  },
  "language_info": {
   "codemirror_mode": {
    "name": "ipython",
    "version": 3
   },
   "file_extension": ".py",
   "mimetype": "text/x-python",
   "name": "python",
   "nbconvert_exporter": "python",
   "pygments_lexer": "ipython3",
   "version": "3.9.12"
  }
 },
 "nbformat": 4,
 "nbformat_minor": 5
}
